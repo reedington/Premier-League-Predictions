{
  "cells": [
    {
      "cell_type": "markdown",
      "metadata": {
        "id": "view-in-github",
        "colab_type": "text"
      },
      "source": [
        "<a href=\"https://colab.research.google.com/github/reedington/Premier-League-Predictions/blob/main/Premier_League.ipynb\" target=\"_parent\"><img src=\"https://colab.research.google.com/assets/colab-badge.svg\" alt=\"Open In Colab\"/></a>"
      ]
    },
    {
      "cell_type": "markdown",
      "metadata": {
        "id": "gU7M7pbHq-2Q"
      },
      "source": [
        "### 1.0.0 Web Scraping the **PREMIER LEAGUE** data from: \n",
        "https://fbref.com using\n",
        "\n",
        "1.   Requests\n",
        "2.   Pandas\n",
        "3.   BeautifulSoup(Mainly for the scraping of data from internet)\n",
        "4.   Time \n",
        "\n"
      ]
    },
    {
      "cell_type": "code",
      "execution_count": 1,
      "metadata": {
        "id": "I7X6-MVdaMTO"
      },
      "outputs": [],
      "source": [
        "import requests\n",
        "import pandas as pd\n",
        "from bs4 import BeautifulSoup\n",
        "import time\n",
        "import numpy as np"
      ]
    },
    {
      "cell_type": "code",
      "execution_count": 2,
      "metadata": {
        "id": "DUK-ETK3GjDx"
      },
      "outputs": [],
      "source": [
        "standings_url='https://fbref.com/en/comps/9/Premier-League-Stats'\n",
        "years=list(range(2022,1999,-1))\n",
        "all_matches=[]"
      ]
    },
    {
      "cell_type": "code",
      "source": [],
      "metadata": {
        "id": "UQazjjFetp8f",
        "colab": {
          "base_uri": "https://localhost:8080/",
          "height": 217
        },
        "outputId": "a9e93c40-af1a-4d03-ef4d-6f4070460b9e"
      },
      "execution_count": 14,
      "outputs": [
        {
          "output_type": "error",
          "ename": "IndexError",
          "evalue": "ignored",
          "traceback": [
            "\u001b[0;31m---------------------------------------------------------------------------\u001b[0m",
            "\u001b[0;31mIndexError\u001b[0m                                Traceback (most recent call last)",
            "\u001b[0;32m<ipython-input-14-ca67a03320bb>\u001b[0m in \u001b[0;36m<module>\u001b[0;34m\u001b[0m\n\u001b[1;32m      1\u001b[0m \u001b[0mdata\u001b[0m\u001b[0;34m=\u001b[0m\u001b[0mrequests\u001b[0m\u001b[0;34m.\u001b[0m\u001b[0mget\u001b[0m\u001b[0;34m(\u001b[0m\u001b[0;34m'https://fbref.com/en/comps/9/Premier-League-Stats'\u001b[0m\u001b[0;34m)\u001b[0m\u001b[0;34m\u001b[0m\u001b[0;34m\u001b[0m\u001b[0m\n\u001b[1;32m      2\u001b[0m \u001b[0msoup\u001b[0m\u001b[0;34m=\u001b[0m\u001b[0mBeautifulSoup\u001b[0m\u001b[0;34m(\u001b[0m\u001b[0mdata\u001b[0m\u001b[0;34m.\u001b[0m\u001b[0mtext\u001b[0m\u001b[0;34m)\u001b[0m\u001b[0;34m\u001b[0m\u001b[0;34m\u001b[0m\u001b[0m\n\u001b[0;32m----> 3\u001b[0;31m \u001b[0mstandings_table\u001b[0m\u001b[0;34m=\u001b[0m\u001b[0msoup\u001b[0m\u001b[0;34m.\u001b[0m\u001b[0mselect\u001b[0m\u001b[0;34m(\u001b[0m\u001b[0;34m'table.stats_table'\u001b[0m\u001b[0;34m)\u001b[0m\u001b[0;34m[\u001b[0m\u001b[0;36m0\u001b[0m\u001b[0;34m]\u001b[0m\u001b[0;34m\u001b[0m\u001b[0;34m\u001b[0m\u001b[0m\n\u001b[0m\u001b[1;32m      4\u001b[0m \u001b[0mprint\u001b[0m\u001b[0;34m(\u001b[0m\u001b[0mstandings_table\u001b[0m\u001b[0;34m)\u001b[0m\u001b[0;34m\u001b[0m\u001b[0;34m\u001b[0m\u001b[0m\n",
            "\u001b[0;31mIndexError\u001b[0m: list index out of range"
          ]
        }
      ]
    },
    {
      "cell_type": "code",
      "execution_count": 15,
      "metadata": {
        "id": "U3GaQOhhGmH4",
        "colab": {
          "base_uri": "https://localhost:8080/",
          "height": 235
        },
        "outputId": "006aa713-1707-48ab-c0de-2ea4e7d5ba10"
      },
      "outputs": [
        {
          "output_type": "error",
          "ename": "IndexError",
          "evalue": "ignored",
          "traceback": [
            "\u001b[0;31m---------------------------------------------------------------------------\u001b[0m",
            "\u001b[0;31mIndexError\u001b[0m                                Traceback (most recent call last)",
            "\u001b[0;32m<ipython-input-15-f6ffa6d1c8d6>\u001b[0m in \u001b[0;36m<module>\u001b[0;34m\u001b[0m\n\u001b[1;32m      2\u001b[0m     \u001b[0mdata\u001b[0m\u001b[0;34m=\u001b[0m\u001b[0mrequests\u001b[0m\u001b[0;34m.\u001b[0m\u001b[0mget\u001b[0m\u001b[0;34m(\u001b[0m\u001b[0mstandings_url\u001b[0m\u001b[0;34m)\u001b[0m\u001b[0;34m\u001b[0m\u001b[0;34m\u001b[0m\u001b[0m\n\u001b[1;32m      3\u001b[0m     \u001b[0msoup\u001b[0m\u001b[0;34m=\u001b[0m\u001b[0mBeautifulSoup\u001b[0m\u001b[0;34m(\u001b[0m\u001b[0mdata\u001b[0m\u001b[0;34m.\u001b[0m\u001b[0mtext\u001b[0m\u001b[0;34m)\u001b[0m\u001b[0;34m\u001b[0m\u001b[0;34m\u001b[0m\u001b[0m\n\u001b[0;32m----> 4\u001b[0;31m     \u001b[0mstandings_table\u001b[0m\u001b[0;34m=\u001b[0m\u001b[0msoup\u001b[0m\u001b[0;34m.\u001b[0m\u001b[0mselect\u001b[0m\u001b[0;34m(\u001b[0m\u001b[0;34m'table.stats_table'\u001b[0m\u001b[0;34m)\u001b[0m\u001b[0;34m[\u001b[0m\u001b[0;36m0\u001b[0m\u001b[0;34m]\u001b[0m\u001b[0;34m\u001b[0m\u001b[0;34m\u001b[0m\u001b[0m\n\u001b[0m\u001b[1;32m      5\u001b[0m     \u001b[0mteams_url\u001b[0m\u001b[0;34m=\u001b[0m\u001b[0;34m[\u001b[0m\u001b[0mstandings\u001b[0m\u001b[0;34m.\u001b[0m\u001b[0mget\u001b[0m\u001b[0;34m(\u001b[0m\u001b[0;34m'href'\u001b[0m\u001b[0;34m)\u001b[0m \u001b[0;32mfor\u001b[0m \u001b[0mstandings\u001b[0m \u001b[0;32min\u001b[0m \u001b[0mstandings_table\u001b[0m\u001b[0;34m.\u001b[0m\u001b[0mfind_all\u001b[0m\u001b[0;34m(\u001b[0m\u001b[0;34m'a'\u001b[0m\u001b[0;34m)\u001b[0m\u001b[0;34m]\u001b[0m\u001b[0;34m\u001b[0m\u001b[0;34m\u001b[0m\u001b[0m\n\u001b[1;32m      6\u001b[0m     \u001b[0msquad_links\u001b[0m\u001b[0;34m=\u001b[0m\u001b[0;34m[\u001b[0m\u001b[0mlinks\u001b[0m \u001b[0;32mfor\u001b[0m \u001b[0mlinks\u001b[0m \u001b[0;32min\u001b[0m \u001b[0mteams_url\u001b[0m \u001b[0;32mif\u001b[0m \u001b[0;34m'/squads/'\u001b[0m \u001b[0;32min\u001b[0m \u001b[0mlinks\u001b[0m\u001b[0;34m]\u001b[0m\u001b[0;34m\u001b[0m\u001b[0;34m\u001b[0m\u001b[0m\n",
            "\u001b[0;31mIndexError\u001b[0m: list index out of range"
          ]
        }
      ],
      "source": [
        "for year in years:\n",
        "    data=requests.get(standings_url)\n",
        "    soup=BeautifulSoup(data.text)\n",
        "    standings_table=soup.select('table.stats_table')[0]\n",
        "    teams_url=[standings.get('href') for standings in standings_table.find_all('a')]\n",
        "    squad_links=[links for links in teams_url if '/squads/' in links]\n",
        "    squad_links=[f'https://fbref.com{links}' for links in squad_links]\n",
        "    previous_seasons=soup.select('a.prev')[0].get('href')\n",
        "    standings_url=f'https://fbref.com{previous_seasons}'\n",
        "    for squad in squad_links:\n",
        "        squad_name= squad.split('/')[-1].replace('-Stats','').replace('-',' ')\n",
        "        data=requests.get(squad)\n",
        "        soup=BeautifulSoup(data.text)\n",
        "        matches=pd.read_html(data.text,match='Scores & Fixtures')[0]\n",
        "        links=[link.get('href') for link in soup.find_all('a')]\n",
        "        links_updated=[value for value in links if value!=None]\n",
        "        #Shooting Dataframe\n",
        "        shooting_url=[link for link in links_updated if 'all_comps/shooting' in link]\n",
        "        shooting_url=f'https://fbref.com{shooting_url[0]}'\n",
        "        shooting_df=pd.read_html(shooting_url,match='Shooting')[0]\n",
        "        shooting_df.columns=shooting_df.columns.droplevel()\n",
        "        try:\n",
        "            team_data=matches.merge(shooting_df[['Date','Sh','SoT','Dist','PK','PKatt']])\n",
        "        except ValueError:\n",
        "            continue\n",
        "        team_data['Name']=squad_name\n",
        "        team_data['Season']=year\n",
        "        all_matches.append(team_data)\n",
        "        time.sleep(1)"
      ]
    },
    {
      "cell_type": "code",
      "execution_count": null,
      "metadata": {
        "id": "1XMV4FTEM4LA"
      },
      "outputs": [],
      "source": [
        "match_df=pd.concat(all_matches,ignore_index=True)\n",
        "match_df.to_csv('matches.csv') "
      ]
    },
    {
      "cell_type": "markdown",
      "metadata": {
        "id": "ml6XXUTdqQF9"
      },
      "source": [
        "# 1.0.1 **Premier League Predictions**\n",
        "\n",
        "Training and Fitting the Model to be able to predict either the teams Win(W),\n",
        "Lose(L) or \n",
        "Draw(D) "
      ]
    },
    {
      "cell_type": "markdown",
      "metadata": {
        "id": "s3e6Yilgte4F"
      },
      "source": [
        "Importing the necessary **libraries** used for training,testing and predicting our data:"
      ]
    },
    {
      "cell_type": "code",
      "execution_count": null,
      "metadata": {
        "id": "Onu8sDBQm0nk"
      },
      "outputs": [],
      "source": [
        "from sklearn.linear_model import LinearRegression\n",
        "from sklearn.neighbors import KNeighborsClassifier\n",
        "from sklearn.ensemble import RandomForestClassifier\n",
        "from sklearn.multiclass import OneVsRestClassifier\n",
        "import numpy as np\n",
        "from sklearn.metrics import accuracy_score,precision_score,f1_score,confusion_matrix,classification_report\n",
        "from sklearn.model_selection import RandomizedSearchCV\n"
      ]
    },
    {
      "cell_type": "code",
      "execution_count": null,
      "metadata": {
        "id": "xULOlahLTn_c"
      },
      "outputs": [],
      "source": [
        "matches=pd.read_csv('matches.csv')\n",
        "matches.drop('Unnamed: 0',axis=1,inplace=True)\n",
        "matches=matches[matches['Comp']=='Premier League']"
      ]
    },
    {
      "cell_type": "code",
      "execution_count": null,
      "metadata": {
        "id": "4VZqbZqJXzeM"
      },
      "outputs": [],
      "source": [
        "matches['Date']=matches['Date'].apply(pd.to_datetime)"
      ]
    },
    {
      "cell_type": "code",
      "execution_count": null,
      "metadata": {
        "id": "BwvT0b1WtDqo"
      },
      "outputs": [],
      "source": [
        "#Manipulating the datasets\n",
        "matches['venue_codes']=matches['Venue'].astype('category').cat.codes\n",
        "matches['Opp_codes']=matches['Opponent'].astype('category').cat.codes\n",
        "matches['team_codes']=matches['Name'].astype('category').cat.codes\n",
        "matches['Name']=matches['Name'].replace('Stats',' ',regex=True)\n",
        "matches['Result_codes']=matches['Result'].astype('category').cat.codes\n",
        "matches['Day_codes']=matches['Date'].dt.day_of_week\n",
        "\n",
        "matches['GF']=matches['GF'].replace('\\((\\d+)\\)','',regex=True).astype(float)\n",
        "matches['GF']=matches['GF'].astype(int)\n",
        "matches['GA']=matches['GA'].replace('\\((\\d+)\\)','',regex=True).astype(float)\n",
        "matches['GA']=matches['GA'].astype(int)\n",
        "\n",
        "#filling out missing data in each column used for training the data\n",
        "matches['xG']=matches['xG'].fillna(np.mean(matches['xG']))\n",
        "matches['SoT']=matches['SoT'].fillna(np.mean(matches['SoT']))\n",
        "matches['xGA']=matches['xGA'].fillna(np.mean(matches['xGA']))\n",
        "matches['Sh']=matches['Sh'].fillna(np.mean(matches['Sh']))\n",
        "matches['Dist']=matches['Dist'].fillna(np.mean(matches['Dist']))\n",
        "matches['PKatt']=matches['PKatt'].fillna(np.mean(matches['PKatt']))\n",
        "matches['Attendance']=matches['Attendance'].fillna(np.mean(matches['Attendance']))\n",
        "matches['Dist']=matches['Dist'].fillna(np.mean(matches['Dist']))\n",
        "matches['Poss']=matches['Poss'].fillna(np.mean(matches['Poss']))\n",
        "\n"
      ]
    },
    {
      "cell_type": "code",
      "execution_count": null,
      "metadata": {
        "id": "6q0Dum7oa511"
      },
      "outputs": [],
      "source": [
        "#The variables/features to train it on\n",
        "#The predictions are the features we are training our model on to be able to predict our target varible \n",
        "predictions=['venue_codes','Opp_codes','team_codes','Day_codes','xG','Sh','SoT','xGA','Dist','PK','PKatt','Attendance','Poss']\n",
        "target=['Result_codes']\n",
        "#spiliting our data into train and test\n",
        "train=matches[matches['Date']<'2022-01-01']\n",
        "test=matches[matches['Date']>'2022-01-01']\n",
        "# X is the Feature to train it on\n",
        "X_train=train[predictions]\n",
        "X_test=test[predictions]\n",
        "# y is target varible\n",
        "y_train=train[target]\n",
        "y_test=test[target]"
      ]
    },
    {
      "cell_type": "code",
      "execution_count": null,
      "metadata": {
        "id": "KAI14Y7aC1kn"
      },
      "outputs": [],
      "source": [
        "#Determining which model is best \n",
        "model={'Linear Regression': LinearRegression(),\n",
        "      'K-Nearest-Neighbors': KNeighborsClassifier(),\n",
        "      'Random-Forest-Classifier':RandomForestClassifier()}\n",
        "def fit_and_score(model,X_train,X_test,y_train,y_test):\n",
        "    '''\n",
        "    To determine the accuracy between the 3 model for classifier\n",
        "    Models: a dict of different Scitkit-Learn machine learning models\n",
        "    X_train:training data(no labels)\n",
        "    X_test: testing data (no labels)\n",
        "    y_train: training labels\n",
        "    y_test: test labels\n",
        "    \n",
        "    '''\n",
        "    model_score={}\n",
        "    np.random.seed(42)\n",
        "    for name,estimators in model.items():\n",
        "        \n",
        "        OneVsRestClassifier(estimators.fit(X_train,np.ravel(y_train)))\n",
        "        model_score[name]=OneVsRestClassifier(estimators.score(X_test,np.ravel(y_test)))\n",
        "    return model_score"
      ]
    },
    {
      "cell_type": "code",
      "execution_count": null,
      "metadata": {
        "id": "KgJYj_I_v1mU"
      },
      "outputs": [],
      "source": [
        "fit_and_score(model,X_train,X_test,y_train,y_test)"
      ]
    },
    {
      "cell_type": "code",
      "source": [
        "grid={'n_estimators':[100,200,500,1000,1200],\n",
        "      'max_depth':[None,5,10,20,50,100],\n",
        "      'max_features':['auto','sqrt','log2'],\n",
        "      'min_samples_split':[2,4,6,8,10],\n",
        "      'min_samples_leaf':[1,2,4],\n",
        "      'max_leaf_nodes':[None,10,30,40,80,150],\n",
        "      'max_samples':[None,50,60,85,120]}\n",
        "np.random.seed(42)\n",
        "clf=RandomForestClassifier(n_jobs=1)\n",
        "rs_clf=RandomizedSearchCV(estimator=clf,\n",
        "                         param_distributions=grid,\n",
        "                         n_iter=10,\n",
        "                         cv=5,\n",
        "                         verbose=2)"
      ],
      "metadata": {
        "id": "OZ9U_NIjM_xE"
      },
      "execution_count": null,
      "outputs": []
    },
    {
      "cell_type": "code",
      "source": [
        "OneVsRestClassifier(rs_clf.fit(X_train,np.ravel(y_train)))\n",
        "print(f'The accuracy score is {rs_clf.score(X_test,np.ravel(y_test))*100:.2f}%')"
      ],
      "metadata": {
        "id": "E2-IEXtENFam"
      },
      "execution_count": null,
      "outputs": []
    },
    {
      "cell_type": "code",
      "source": [
        "%matplotlib inline\n",
        "import matplotlib.pyplot as plt\n",
        "import seaborn as sns\n",
        "y_preds=rs_clf.predict(X_test)\n",
        "def plot_conf_mat(y_test, y_preds):\n",
        "    \"\"\"\n",
        "    Plots a confusion matrix using Seaborn's heatmap().\n",
        "    \"\"\"\n",
        "    fig, ax = plt.subplots(figsize=(3, 3))\n",
        "    ax = sns.heatmap(confusion_matrix(np.ravel(y_test), y_preds),\n",
        "                     annot=True, # Annotate the boxes\n",
        "                     cbar=False)\n",
        "    plt.xlabel(\"Predicted label\") # predictions go on the x-axis\n",
        "    plt.ylabel(\"True label\") # true labels go on the y-axis \n",
        "    \n",
        "plot_conf_mat(y_test, y_preds)"
      ],
      "metadata": {
        "id": "Zc7UI_EvNPAD"
      },
      "execution_count": null,
      "outputs": []
    },
    {
      "cell_type": "code",
      "execution_count": null,
      "metadata": {
        "id": "5HYH8ZckebVB"
      },
      "outputs": [],
      "source": [
        "from google.colab import drive\n",
        "drive.mount('/content/drive')"
      ]
    }
  ],
  "metadata": {
    "colab": {
      "provenance": [],
      "toc_visible": true,
      "include_colab_link": true
    },
    "kernelspec": {
      "display_name": "Python 3",
      "name": "python3"
    },
    "language_info": {
      "name": "python"
    }
  },
  "nbformat": 4,
  "nbformat_minor": 0
}